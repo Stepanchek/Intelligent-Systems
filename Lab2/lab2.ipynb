{
 "cells": [
  {
   "cell_type": "markdown",
   "id": "6f9f44e5-40d2-455d-94e6-9f42312a1a1c",
   "metadata": {},
   "source": [
    "### Task1."
   ]
  },
  {
   "cell_type": "code",
   "execution_count": 1,
   "id": "d8c95dbc-1686-4a97-8229-313af8595b63",
   "metadata": {},
   "outputs": [],
   "source": [
    "import numpy as np\n",
    "import time\n",
    "from math import ceil\n",
    "import  random\n",
    "\n",
    "def start_measuring(action):\n",
    "    start = time.time()\n",
    "    action()\n",
    "    end = time.time()\n",
    "    return f\"{end - start:.4f}s\"\n",
    "\n",
    "def compare_algos(numpy, own):\n",
    "     return f\"numpy: {start_measuring(numpy)} \", f\"own: {start_measuring(own)}\""
   ]
  },
  {
   "cell_type": "markdown",
   "id": "6c9cac4e-0574-4f0b-b336-08a63db945fb",
   "metadata": {},
   "source": [
    "**Вправа 2: Вводиться число n. Розставити 1 та 0 у шаховому \n",
    "порядку, починаючи з 1 в матриці розміром n×n, використовуюч \r\n",
    "слайсін**г."
   ]
  },
  {
   "cell_type": "code",
   "execution_count": 2,
   "id": "070225ad-531c-434d-83d2-82c1580aa059",
   "metadata": {},
   "outputs": [],
   "source": [
    "def task_2_numpy_algo(n):\n",
    "    matrix = np.zeros((n,n), int)\n",
    "    matrix[::2,::2] = 1\n",
    "    matrix[1::2,1::2] = 1\n",
    "    # print(matrix)\n",
    "\n",
    "def task_2_algo(n):\n",
    "    matrix = [[0]*n for _ in range(0, n)]\n",
    "    line1 = [i % 2 for i in range(1, n+1)]\n",
    "    line2 = [i % 2 for i in range(0, n)]\n",
    "    matrix[::2] = [line1 for _ in range(0, len(matrix[::2]))]\n",
    "    matrix[1::2] = [line2 for _ in range(0, len(matrix[1::2]))]\n",
    "    # for i in matrix: print(i)\n",
    "\n",
    "def task_2():\n",
    "    try:\n",
    "        n = int(input())\n",
    "    except ValueError:\n",
    "        return \"Enter only number!\"\n",
    "\n",
    "    return compare_algos(lambda : task_2_numpy_algo(n), lambda : task_2_algo(n))"
   ]
  },
  {
   "cell_type": "code",
   "execution_count": 3,
   "id": "d7ade744-6ed2-463f-a097-095a379c6fa1",
   "metadata": {},
   "outputs": [
    {
     "name": "stdin",
     "output_type": "stream",
     "text": [
      " 100\n"
     ]
    },
    {
     "data": {
      "text/plain": [
       "('numpy: 0.0000s ', 'own: 0.0000s')"
      ]
     },
     "execution_count": 3,
     "metadata": {},
     "output_type": "execute_result"
    }
   ],
   "source": [
    "task_2()"
   ]
  },
  {
   "cell_type": "markdown",
   "id": "6e2737ab-8d1e-4fd4-b57b-e6926a935df1",
   "metadata": {},
   "source": [
    "**Вправа 3: Вводяться 4 числа n, m, r, c. Вивести масив розміру n*m, в якому в кожному рядку з номером r і в кожному стовпчику з номером c стоять 0, а інші елементи дорівнюють 1.**"
   ]
  },
  {
   "cell_type": "code",
   "execution_count": 4,
   "id": "28a31d8f-02c8-4204-a9a0-8f55baa0303e",
   "metadata": {},
   "outputs": [],
   "source": [
    "def task_3_numpy_algo(n, m, r, c):\n",
    "    matrix = np.ones((n,m), int)\n",
    "    matrix[::r] = np.zeros(m)\n",
    "    matrix[::, ::c] = 0\n",
    "    # print(matrix)\n",
    "\n",
    "def task_3_algo(n, m, r, c):\n",
    "    matrix = [[1]*m for _ in range(0, n)]\n",
    "    matrix[::r] = [[0]*m for _ in matrix[::r]]\n",
    "    for row in matrix:\n",
    "        row[::c] = [0 for _ in row[::c]]\n",
    "    # for i in matrix: print(i)\n",
    "\n",
    "def task_3():\n",
    "    inputs = input().split(\" \")\n",
    "    if len(inputs) != 4:\n",
    "        return \"There must be only 4 numbers!\"\n",
    "    nums = []\n",
    "    for i in inputs:\n",
    "        try:\n",
    "            nums.append(int(i))\n",
    "        except ValueError:\n",
    "            return \"Enter only number!\"\n",
    "    n, m, r, c = nums\n",
    "    if r > n or c > m:\n",
    "        return \"Indexes out of range\"\n",
    "\n",
    "    return compare_algos(lambda : task_3_numpy_algo(n, m, r, c), lambda : task_3_algo(n, m, r, c))"
   ]
  },
  {
   "cell_type": "code",
   "execution_count": 5,
   "id": "ad138af4-c16b-41be-93eb-da2292ce3d40",
   "metadata": {},
   "outputs": [
    {
     "name": "stdin",
     "output_type": "stream",
     "text": [
      " 100\n"
     ]
    },
    {
     "data": {
      "text/plain": [
       "'There must be only 4 numbers!'"
      ]
     },
     "execution_count": 5,
     "metadata": {},
     "output_type": "execute_result"
    }
   ],
   "source": [
    "task_3()"
   ]
  },
  {
   "cell_type": "markdown",
   "id": "cea8d56a-fb78-4284-ba0a-a17915aa53d0",
   "metadata": {},
   "source": [
    "**Вправа 5: Вводиться число n. Вивести масив розміру n×n, в якому в рядках з парними індексами стоять 1, а в інших – 0.**"
   ]
  },
  {
   "cell_type": "code",
   "execution_count": 6,
   "id": "f01fa5e3-b229-4356-8bec-a5d6472bdb27",
   "metadata": {},
   "outputs": [],
   "source": [
    "def task_5_numpy_algo(n):\n",
    "    matrix = np.zeros((n,n), int)\n",
    "    matrix[::2, ::] = 1\n",
    "    # print(matrix)\n",
    "\n",
    "def task_5_algo(n):\n",
    "    matrix = [[0]*n for _ in range(0, n)]\n",
    "    matrix[::2] = [[1]*n for _ in matrix[::2]]\n",
    "    # for i in matrix: print(i)\n",
    "\n",
    "def task_5():\n",
    "    try:\n",
    "        n = int(input())\n",
    "    except ValueError:\n",
    "        return \"Enter only number!\"\n",
    "\n",
    "    return compare_algos(lambda : task_5_numpy_algo(n), lambda : task_5_algo(n))"
   ]
  },
  {
   "cell_type": "code",
   "execution_count": 7,
   "id": "7a09fcbd-f75e-4ca9-8243-2c4d88efe950",
   "metadata": {},
   "outputs": [
    {
     "name": "stdin",
     "output_type": "stream",
     "text": [
      " 100\n"
     ]
    },
    {
     "data": {
      "text/plain": [
       "('numpy: 0.0000s ', 'own: 0.0000s')"
      ]
     },
     "execution_count": 7,
     "metadata": {},
     "output_type": "execute_result"
    }
   ],
   "source": [
    "task_5()"
   ]
  },
  {
   "cell_type": "markdown",
   "id": "86d8e2fd-78c7-4dda-b685-1c5936397844",
   "metadata": {},
   "source": [
    "**Вправа 9: Вводиться число n. Створити масив значень від n до 0.**"
   ]
  },
  {
   "cell_type": "code",
   "execution_count": 8,
   "id": "608904c7-31d2-4301-9710-c87cb803ca4b",
   "metadata": {},
   "outputs": [],
   "source": [
    "def task_9_numpy_algo(n):\n",
    "    array = np.arange(n, -1, -1)\n",
    "    # print(array)\n",
    "\n",
    "def task_9_algo(n):\n",
    "    array = [i for i in range(n, -1, -1)]\n",
    "    # print(array)\n",
    "\n",
    "def task_9():\n",
    "    try:\n",
    "        n = int(input())\n",
    "    except ValueError:\n",
    "        return \"Enter only number!\"\n",
    "\n",
    "    return compare_algos(lambda : task_9_numpy_algo(n), lambda : task_9_algo(n))"
   ]
  },
  {
   "cell_type": "code",
   "execution_count": 9,
   "id": "5247b4f7-362c-444f-9a33-85758dc6d9f3",
   "metadata": {},
   "outputs": [
    {
     "name": "stdin",
     "output_type": "stream",
     "text": [
      " 100\n"
     ]
    },
    {
     "data": {
      "text/plain": [
       "('numpy: 0.0000s ', 'own: 0.0000s')"
      ]
     },
     "execution_count": 9,
     "metadata": {},
     "output_type": "execute_result"
    }
   ],
   "source": [
    "task_9()"
   ]
  },
  {
   "cell_type": "markdown",
   "id": "0ddb5098-7275-4638-8862-2eed61a755f7",
   "metadata": {},
   "source": [
    "**Вправа 13: Розмістити на полі 8×8 нулі та одиниці в шахматному порядку, використовуючи функцію повторення (*).**"
   ]
  },
  {
   "cell_type": "code",
   "execution_count": 10,
   "id": "5dcb009b-868e-4055-bd16-b0579786a59b",
   "metadata": {},
   "outputs": [],
   "source": [
    "def task_13_numpy_algo():\n",
    "    matrix = np.zeros((8,8), int)\n",
    "    matrix[::2] = [0,1] * 4\n",
    "    matrix[1::2] = [1,0] * 4\n",
    "    # print(matrix)\n",
    "\n",
    "def task_13_algo():\n",
    "    matrix = [[0]*8 for _ in range(0, 8)]\n",
    "    matrix[::2] = [[0, 1]*4 for _ in matrix[::2]]\n",
    "    matrix[1::2] = [[1, 0]*4 for _ in matrix[1::2]]\n",
    "    # for i in matrix: print(i)\n",
    "\n",
    "def task_13():\n",
    "    return compare_algos(lambda : task_13_numpy_algo(), lambda : task_13_algo())"
   ]
  },
  {
   "cell_type": "code",
   "execution_count": 11,
   "id": "8ba2d57e-9247-4cf2-bade-69f01d871878",
   "metadata": {},
   "outputs": [
    {
     "data": {
      "text/plain": [
       "('numpy: 0.0000s ', 'own: 0.0000s')"
      ]
     },
     "execution_count": 11,
     "metadata": {},
     "output_type": "execute_result"
    }
   ],
   "source": [
    "task_13()"
   ]
  },
  {
   "cell_type": "markdown",
   "id": "e0e9e59f-a391-4cf4-9378-4e5f7222dda7",
   "metadata": {},
   "source": [
    "**Вправа 14: Розмістити на полі 8×8 нулі та одиниці в шахматному порядку, використовуючи функцію numpy tile().**"
   ]
  },
  {
   "cell_type": "code",
   "execution_count": 12,
   "id": "3f7a413c-7c5d-4925-9853-5e86ae104b37",
   "metadata": {},
   "outputs": [],
   "source": [
    "def task_14_numpy_algo():\n",
    "    matrix = np.zeros((8,8), int)\n",
    "    matrix[::2] = np.tile([0,1], 4)\n",
    "    matrix[1::2] = np.tile([1,0], 4)\n",
    "    # print(matrix)\n",
    "\n",
    "def task_14_algo():\n",
    "    matrix = [[0]*8 for _ in range(0, 8)]\n",
    "    matrix[::2] = [[0, 1]*4 for _ in matrix[::2]]\n",
    "    matrix[1::2] = [[1, 0]*4 for _ in matrix[1::2]]\n",
    "    # for i in matrix: print(i)\n",
    "\n",
    "def task_14():\n",
    "    return compare_algos(lambda : task_14_numpy_algo(), lambda : task_14_algo())"
   ]
  },
  {
   "cell_type": "code",
   "execution_count": 13,
   "id": "888d8593-c214-4bab-8659-eb7f30e6a6ca",
   "metadata": {},
   "outputs": [
    {
     "data": {
      "text/plain": [
       "('numpy: 0.0010s ', 'own: 0.0000s')"
      ]
     },
     "execution_count": 13,
     "metadata": {},
     "output_type": "execute_result"
    }
   ],
   "source": [
    "task_14()"
   ]
  },
  {
   "cell_type": "markdown",
   "id": "96e28aa2-70b9-4435-b836-1b2e1ab43f5f",
   "metadata": {},
   "source": [
    "**Вправа 16: Заповнити вектор значеннями від 0 до n. Всі значення, що більші за n/4 та менші за 3n/4 замінити нулями.**"
   ]
  },
  {
   "cell_type": "code",
   "execution_count": 14,
   "id": "ddd40e5f-3ee5-45ef-aed5-e5c7847769ab",
   "metadata": {},
   "outputs": [],
   "source": [
    "def task_16_numpy_algo(n):\n",
    "    array = np.arange(0, n+1)\n",
    "    array[ceil(n/4)+1:ceil(3*n/4)] = 0\n",
    "    # print(array)\n",
    "\n",
    "def task_16_algo(n):\n",
    "    array = [i for i in range(0, n+1)]\n",
    "    for i in range(ceil(n/4)+1, ceil(3*n/4)):\n",
    "        array[i] = 0\n",
    "    # print(array)\n",
    "\n",
    "def task_16():\n",
    "    try:\n",
    "        n = int(input())\n",
    "    except ValueError:\n",
    "        return \"Enter only number!\"\n",
    "    return compare_algos(lambda : task_16_numpy_algo(n), lambda : task_16_algo(n))"
   ]
  },
  {
   "cell_type": "code",
   "execution_count": 15,
   "id": "18307085-b9bc-470b-a5eb-974e91b6215e",
   "metadata": {},
   "outputs": [
    {
     "name": "stdin",
     "output_type": "stream",
     "text": [
      " 100\n"
     ]
    },
    {
     "data": {
      "text/plain": [
       "('numpy: 0.0000s ', 'own: 0.0000s')"
      ]
     },
     "execution_count": 15,
     "metadata": {},
     "output_type": "execute_result"
    }
   ],
   "source": [
    "task_16()"
   ]
  },
  {
   "cell_type": "markdown",
   "id": "5ccea9a5-a295-4771-93cf-71da75881e5d",
   "metadata": {},
   "source": [
    "**Вправа 17: Заповнити вектор значеннями від 0 до n. Замінити знаки для всіх значень, що менші за n/2 та більші за 3n/4 на протилежні.**"
   ]
  },
  {
   "cell_type": "code",
   "execution_count": 16,
   "id": "b9dbb9c6-d2cc-4f51-b638-1dd7bb2d9cd8",
   "metadata": {},
   "outputs": [],
   "source": [
    "def task_17_numpy_algo(n):\n",
    "    array = np.arange(0, n + 1)\n",
    "    array[0:ceil(n / 2)] *= -1\n",
    "    array[ceil(3*n / 4):] *= -1\n",
    "    # print(array)\n",
    "\n",
    "\n",
    "def task_17_algo(n):\n",
    "    array = [i for i in range(0, n + 1)]\n",
    "    for i in range(0, ceil(n / 2)):\n",
    "        array[i] *= -1\n",
    "    for i in range(ceil(3*n / 4), n + 1):\n",
    "        array[i] *= -1\n",
    "    # print(array)\n",
    "\n",
    "\n",
    "def task_17():\n",
    "    try:\n",
    "        n = int(input())\n",
    "    except ValueError:\n",
    "        return \"Enter only number!\"\n",
    "    return compare_algos(lambda: task_17_numpy_algo(n), lambda: task_17_algo(n))"
   ]
  },
  {
   "cell_type": "code",
   "execution_count": 17,
   "id": "af0c3ccd-13f2-4722-8907-1985390507b4",
   "metadata": {},
   "outputs": [
    {
     "name": "stdin",
     "output_type": "stream",
     "text": [
      " 100\n"
     ]
    },
    {
     "data": {
      "text/plain": [
       "('numpy: 0.0000s ', 'own: 0.0000s')"
      ]
     },
     "execution_count": 17,
     "metadata": {},
     "output_type": "execute_result"
    }
   ],
   "source": [
    "task_17()"
   ]
  },
  {
   "cell_type": "markdown",
   "id": "8e73d37c-8a89-46b4-8ce1-d89fc7383da2",
   "metadata": {},
   "source": [
    "**Вправа 20: Згенерувати вектор із n випадкових елементів, що лежать в інтервалі (0,1). Замінити максимальний елемент на 0.**"
   ]
  },
  {
   "cell_type": "code",
   "execution_count": 18,
   "id": "13d8a397-c49b-464f-9cbf-198ffe697205",
   "metadata": {},
   "outputs": [],
   "source": [
    "def task_20_numpy_algo(n):\n",
    "    array = np.random.rand(n)\n",
    "    # print(f\"Початковий вектор {array:}\")\n",
    "    array[np.argmax(array)] = 0\n",
    "    # print(f\"Змінений вектор {array}\")\n",
    "\n",
    "\n",
    "def task_20_algo(n):\n",
    "    array = [random.random() for _ in range(0, n)]\n",
    "    # print(f\"Початковий вектор {array:}\")\n",
    "    max_index = 0\n",
    "    for i in range(1, n):\n",
    "        if array[i] > array[max_index]:\n",
    "            max_index = i\n",
    "    array[max_index] = 0\n",
    "    # print(f\"Змінений вектор {array}\")\n",
    "\n",
    "\n",
    "def task_20():\n",
    "    try:\n",
    "        n = int(input())\n",
    "    except ValueError:\n",
    "        return \"Enter only number!\"\n",
    "    return compare_algos(lambda: task_20_numpy_algo(n), lambda: task_20_algo(n))"
   ]
  },
  {
   "cell_type": "code",
   "execution_count": 19,
   "id": "9ab3a9a1-7185-4b11-a400-37a305aebb2f",
   "metadata": {},
   "outputs": [
    {
     "name": "stdin",
     "output_type": "stream",
     "text": [
      " 100\n"
     ]
    },
    {
     "data": {
      "text/plain": [
       "('numpy: 0.0000s ', 'own: 0.0000s')"
      ]
     },
     "execution_count": 19,
     "metadata": {},
     "output_type": "execute_result"
    }
   ],
   "source": [
    "task_20()"
   ]
  },
  {
   "cell_type": "markdown",
   "id": "99f6e7eb-b496-40d7-b184-51489424e8f9",
   "metadata": {},
   "source": [
    "**Розв’язати систему алгебраїчних рівнянь за допомогою формул Крамера і виконати перевірку за допомогою:\n",
    "1. матричного множення;\n",
    "2. оберненої матриці;\n",
    "3. функції numpy.linalg.solve().lign*}\r\n"
   ]
  },
  {
   "cell_type": "markdown",
   "id": "13ef0baf-09e7-457d-a39b-bcc28de824c4",
   "metadata": {},
   "source": [
    "\\begin{align*}\n",
    "\\begin{cases}\n",
    "x_1 + 2x_2 + 3x_3 - 2x_4 &= 6 \\\\\n",
    "x_1 - x_2 -2x_3 - 3x_4 &= 8 \\\\\n",
    "3x_1 + 2x_2 - x_3 + 2x_4 &= 4 \\\\\n",
    "2x_1 - 3x_2 + 2x_3 + x_4 &= 8 \\\\\n",
    "\\end{cases}\n",
    "\\end{align*}"
   ]
  },
  {
   "cell_type": "code",
   "execution_count": 20,
   "id": "07db9681-fbb3-4e8f-85a1-3c222da4c22a",
   "metadata": {},
   "outputs": [],
   "source": [
    "def kramer_algo(matrix, vector):\n",
    "    n = len(vector)\n",
    "    det = np.linalg.det(matrix)\n",
    "    res = []\n",
    "    for i in range(0, n):\n",
    "        sub = np.copy(matrix)\n",
    "        sub[:,i]=vector\n",
    "        res.append(np.linalg.det(sub)/det)\n",
    "\n",
    "    return np.array(res)\n",
    "\n",
    "\n",
    "def task_linear():\n",
    "    matrix = np.array([  [1, 2,  3,  -2],\n",
    "                [1, -1, -2, -3],\n",
    "                [3, 2,  -1, 2],\n",
    "                [2, -3, 2,  1]])\n",
    "    vector = np.array([6, 8, 4, -8])\n",
    "\n",
    "    print(f\"matrix = {matrix}\\nvector = {vector}\\n\")\n",
    "\n",
    "    res = kramer_algo(matrix, vector)\n",
    "    print(f\"res = {res}\\n\")\n",
    "\n",
    "    vector_mul = matrix.dot(res)\n",
    "    print(f\"matrix * res = {vector_mul} == vector - {np.allclose(vector, vector_mul)}\")\n",
    "\n",
    "    res_inv = np.linalg.inv(matrix).dot(vector)\n",
    "    print(f\"matrix^-1 * vector = {res_inv} == res - {np.allclose(res, res_inv)}\")\n",
    "\n",
    "    res_lin = np.linalg.solve(matrix, vector)\n",
    "    print(f\"linalg.solve = {res_lin} == res - {np.allclose(res, res_lin)}\")"
   ]
  },
  {
   "cell_type": "code",
   "execution_count": 21,
   "id": "9d18ed65-8635-4e3d-b5aa-fca48ac93b40",
   "metadata": {},
   "outputs": [
    {
     "name": "stdout",
     "output_type": "stream",
     "text": [
      "matrix = [[ 1  2  3 -2]\n",
      " [ 1 -1 -2 -3]\n",
      " [ 3  2 -1  2]\n",
      " [ 2 -3  2  1]]\n",
      "vector = [ 6  8  4 -8]\n",
      "\n",
      "res = [ 1.125   1.9375 -1.125  -2.1875]\n",
      "\n",
      "matrix * res = [ 6.  8.  4. -8.] == vector - True\n",
      "matrix^-1 * vector = [ 1.125   1.9375 -1.125  -2.1875] == res - True\n",
      "linalg.solve = [ 1.125   1.9375 -1.125  -2.1875] == res - True\n"
     ]
    }
   ],
   "source": [
    "task_linear()"
   ]
  },
  {
   "cell_type": "markdown",
   "id": "8258147a-1fa1-4e1e-a8ea-ceaceb261079",
   "metadata": {},
   "source": [
    "Обчислити значення матричного виразу:\n",
    "\n",
    "1. з використанням універсальних функцій бібліотеки NumPy.\n",
    "2. за допомогою ітеративних конструкцій (з використанням циклів, спискових включень тощо).\n",
    "3. для обох випадків підрахувати час виконання скрипту та зробити висновок. Порівняти всі рішення за допомогою функції numpy.allclose()."
   ]
  },
  {
   "cell_type": "markdown",
   "id": "b8fa0d58-3e95-4b25-8aae-3abc54e741b3",
   "metadata": {},
   "source": [
    "# Task 3\n",
    "Обчислити значення матричного виразу $3A - (A - 2B)B$, де\n",
    "\\begin{align*}\n",
    "A &= \\begin{pmatrix}\n",
    "    3 & 2 & -5 \\\\\n",
    "    4 & 2 & 0 \\\\\n",
    "    1 & 1 & 2\n",
    "\\end{pmatrix} \\\\\n",
    "B &= \\begin{pmatrix}\n",
    "    -1 & 2 & 4 \\\\\n",
    "    0 & 3 & 2 \\\\\n",
    "    -1 & -3 & 4\n",
    "\\end{pmatrix}\n",
    "\\end{align*}\n"
   ]
  },
  {
   "cell_type": "code",
   "execution_count": 22,
   "id": "48b9c3b8-b456-49e9-863d-867923f4673d",
   "metadata": {},
   "outputs": [],
   "source": [
    "from copy import deepcopy\n",
    "\n",
    "\n",
    "def task_matrix_numpy_algo(matrix_a, matrix_b):\n",
    "    np_a = np.array(matrix_a)\n",
    "    np_b = np.array(matrix_b)\n",
    "    res = 3 * np_a - (np_a - 2 * np_b).dot(np_b)\n",
    "    # print(res)\n",
    "    return res\n",
    "\n",
    "\n",
    "def matrix_constant(constant, matrix):\n",
    "    res = deepcopy(matrix)\n",
    "    for i in range(0, len(res)):\n",
    "        for j in range(0, len(res)):\n",
    "            res[i][j] *= constant\n",
    "\n",
    "    return res\n",
    "\n",
    "\n",
    "def matrix_addition(matrix_a, matrix_b):\n",
    "    res = deepcopy(matrix_a)\n",
    "    for i in range(0, len(res)):\n",
    "        for j in range(0, len(res)):\n",
    "            res[i][j] += matrix_b[i][j]\n",
    "\n",
    "    return res\n",
    "\n",
    "\n",
    "def matrix_multiplication(matrix_a, matrix_b):\n",
    "    res = [[0]*len(matrix_a) for _ in range(0, len(matrix_a))]\n",
    "    for i in range(0, len(res)):\n",
    "        for j in range(0, len(res)):\n",
    "            for k in range(0, len(res)):\n",
    "                res[i][j] += matrix_a[i][k] * matrix_b[k][j]\n",
    "\n",
    "    return res\n",
    "\n",
    "def task_matrix_algo(matrix_a, matrix_b):\n",
    "    res = matrix_addition(\n",
    "        matrix_constant(3, matrix_a),\n",
    "        matrix_constant(-1,matrix_multiplication(\n",
    "                                matrix_addition(\n",
    "                                    matrix_a,\n",
    "                                    matrix_constant(-2, matrix_b)),\n",
    "                                matrix_b)))\n",
    "    # print(res)\n",
    "    return res\n",
    "\n",
    "\n",
    "def task_matrix():\n",
    "    matrix_a = [[4, 5, -2],\n",
    "              [3, -1, 0],\n",
    "              [4, 2, 7]]\n",
    "    matrix_b =  [[2, 1, -1],\n",
    "              [0, 1, 3],\n",
    "              [5, 7, 3]]\n",
    "\n",
    "    res_num = task_matrix_numpy_algo(matrix_a, matrix_b)\n",
    "    res_algo = task_matrix_algo(matrix_a, matrix_b)\n",
    "\n",
    "    print(f\"res_num == res_algo - {np.allclose(res_num, res_algo)}\")\n",
    "\n",
    "    return compare_algos(\n",
    "        lambda: task_matrix_numpy_algo(matrix_a, matrix_b),\n",
    "        lambda: task_matrix_algo(matrix_a, matrix_b))"
   ]
  },
  {
   "cell_type": "code",
   "execution_count": 23,
   "id": "1b217b9e-abef-44f0-ad1a-655928a7cca8",
   "metadata": {},
   "outputs": [
    {
     "name": "stdout",
     "output_type": "stream",
     "text": [
      "res_num == res_algo - True\n"
     ]
    },
    {
     "data": {
      "text/plain": [
       "('numpy: 0.0000s ', 'own: 0.0000s')"
      ]
     },
     "execution_count": 23,
     "metadata": {},
     "output_type": "execute_result"
    }
   ],
   "source": [
    "task_matrix()"
   ]
  }
 ],
 "metadata": {
  "kernelspec": {
   "display_name": "Python 3 (ipykernel)",
   "language": "python",
   "name": "python3"
  },
  "language_info": {
   "codemirror_mode": {
    "name": "ipython",
    "version": 3
   },
   "file_extension": ".py",
   "mimetype": "text/x-python",
   "name": "python",
   "nbconvert_exporter": "python",
   "pygments_lexer": "ipython3",
   "version": "3.10.11"
  }
 },
 "nbformat": 4,
 "nbformat_minor": 5
}
