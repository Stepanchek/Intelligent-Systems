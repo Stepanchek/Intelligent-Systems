{
 "cells": [
  {
   "cell_type": "code",
   "execution_count": null,
   "metadata": {
    "is_executing": true
   },
   "outputs": [],
   "source": [
    "import pandas as pd\n",
    "import numpy as np\n",
    "\n",
    "data = pd.read_csv(\"neo.csv\")\n",
    "\n",
    "data.head()"
   ]
  },
  {
   "cell_type": "code",
   "execution_count": 2,
   "metadata": {},
   "outputs": [
    {
     "name": "stdout",
     "output_type": "stream",
     "text": [
      "<class 'pandas.core.frame.DataFrame'>\n",
      "RangeIndex: 90836 entries, 0 to 90835\n",
      "Data columns (total 10 columns):\n",
      " #   Column              Non-Null Count  Dtype  \n",
      "---  ------              --------------  -----  \n",
      " 0   id                  90836 non-null  int64  \n",
      " 1   name                90836 non-null  object \n",
      " 2   est_diameter_min    90836 non-null  float64\n",
      " 3   est_diameter_max    90836 non-null  float64\n",
      " 4   relative_velocity   90836 non-null  float64\n",
      " 5   miss_distance       90836 non-null  float64\n",
      " 6   orbiting_body       90836 non-null  object \n",
      " 7   sentry_object       90836 non-null  bool   \n",
      " 8   absolute_magnitude  90836 non-null  float64\n",
      " 9   hazardous           90836 non-null  bool   \n",
      "dtypes: bool(2), float64(5), int64(1), object(2)\n",
      "memory usage: 5.7+ MB\n"
     ]
    }
   ],
   "source": [
    "data.info()"
   ]
  },
  {
   "cell_type": "code",
   "execution_count": 3,
   "metadata": {},
   "outputs": [
    {
     "data": {
      "text/plain": [
       "relative_velocity\n",
       "34485.841845     2\n",
       "25338.439042     2\n",
       "37225.231825     2\n",
       "36419.712852     2\n",
       "66082.373737     2\n",
       "                ..\n",
       "102750.018447    1\n",
       "27858.417772     1\n",
       "18156.451169     1\n",
       "18470.701216     1\n",
       "27024.455553     1\n",
       "Name: count, Length: 90828, dtype: int64"
      ]
     },
     "execution_count": 3,
     "metadata": {},
     "output_type": "execute_result"
    }
   ],
   "source": [
    "data[\"relative_velocity\"].value_counts()"
   ]
  },
  {
   "cell_type": "code",
   "execution_count": 4,
   "metadata": {},
   "outputs": [
    {
     "data": {
      "text/html": [
       "<div>\n",
       "<style scoped>\n",
       "    .dataframe tbody tr th:only-of-type {\n",
       "        vertical-align: middle;\n",
       "    }\n",
       "\n",
       "    .dataframe tbody tr th {\n",
       "        vertical-align: top;\n",
       "    }\n",
       "\n",
       "    .dataframe thead th {\n",
       "        text-align: right;\n",
       "    }\n",
       "</style>\n",
       "<table border=\"1\" class=\"dataframe\">\n",
       "  <thead>\n",
       "    <tr style=\"text-align: right;\">\n",
       "      <th></th>\n",
       "      <th>id</th>\n",
       "      <th>est_diameter_min</th>\n",
       "      <th>est_diameter_max</th>\n",
       "      <th>relative_velocity</th>\n",
       "      <th>miss_distance</th>\n",
       "      <th>absolute_magnitude</th>\n",
       "    </tr>\n",
       "  </thead>\n",
       "  <tbody>\n",
       "    <tr>\n",
       "      <th>count</th>\n",
       "      <td>9.083600e+04</td>\n",
       "      <td>90836.000000</td>\n",
       "      <td>90836.000000</td>\n",
       "      <td>90836.000000</td>\n",
       "      <td>9.083600e+04</td>\n",
       "      <td>90836.000000</td>\n",
       "    </tr>\n",
       "    <tr>\n",
       "      <th>mean</th>\n",
       "      <td>1.438288e+07</td>\n",
       "      <td>0.127432</td>\n",
       "      <td>0.284947</td>\n",
       "      <td>48066.918918</td>\n",
       "      <td>3.706655e+07</td>\n",
       "      <td>23.527103</td>\n",
       "    </tr>\n",
       "    <tr>\n",
       "      <th>std</th>\n",
       "      <td>2.087202e+07</td>\n",
       "      <td>0.298511</td>\n",
       "      <td>0.667491</td>\n",
       "      <td>25293.296961</td>\n",
       "      <td>2.235204e+07</td>\n",
       "      <td>2.894086</td>\n",
       "    </tr>\n",
       "    <tr>\n",
       "      <th>min</th>\n",
       "      <td>2.000433e+06</td>\n",
       "      <td>0.000609</td>\n",
       "      <td>0.001362</td>\n",
       "      <td>203.346433</td>\n",
       "      <td>6.745533e+03</td>\n",
       "      <td>9.230000</td>\n",
       "    </tr>\n",
       "    <tr>\n",
       "      <th>25%</th>\n",
       "      <td>3.448110e+06</td>\n",
       "      <td>0.019256</td>\n",
       "      <td>0.043057</td>\n",
       "      <td>28619.020645</td>\n",
       "      <td>1.721082e+07</td>\n",
       "      <td>21.340000</td>\n",
       "    </tr>\n",
       "    <tr>\n",
       "      <th>50%</th>\n",
       "      <td>3.748362e+06</td>\n",
       "      <td>0.048368</td>\n",
       "      <td>0.108153</td>\n",
       "      <td>44190.117890</td>\n",
       "      <td>3.784658e+07</td>\n",
       "      <td>23.700000</td>\n",
       "    </tr>\n",
       "    <tr>\n",
       "      <th>75%</th>\n",
       "      <td>3.884023e+06</td>\n",
       "      <td>0.143402</td>\n",
       "      <td>0.320656</td>\n",
       "      <td>62923.604633</td>\n",
       "      <td>5.654900e+07</td>\n",
       "      <td>25.700000</td>\n",
       "    </tr>\n",
       "    <tr>\n",
       "      <th>max</th>\n",
       "      <td>5.427591e+07</td>\n",
       "      <td>37.892650</td>\n",
       "      <td>84.730541</td>\n",
       "      <td>236990.128088</td>\n",
       "      <td>7.479865e+07</td>\n",
       "      <td>33.200000</td>\n",
       "    </tr>\n",
       "  </tbody>\n",
       "</table>\n",
       "</div>"
      ],
      "text/plain": [
       "                 id  est_diameter_min  est_diameter_max  relative_velocity  \\\n",
       "count  9.083600e+04      90836.000000      90836.000000       90836.000000   \n",
       "mean   1.438288e+07          0.127432          0.284947       48066.918918   \n",
       "std    2.087202e+07          0.298511          0.667491       25293.296961   \n",
       "min    2.000433e+06          0.000609          0.001362         203.346433   \n",
       "25%    3.448110e+06          0.019256          0.043057       28619.020645   \n",
       "50%    3.748362e+06          0.048368          0.108153       44190.117890   \n",
       "75%    3.884023e+06          0.143402          0.320656       62923.604633   \n",
       "max    5.427591e+07         37.892650         84.730541      236990.128088   \n",
       "\n",
       "       miss_distance  absolute_magnitude  \n",
       "count   9.083600e+04        90836.000000  \n",
       "mean    3.706655e+07           23.527103  \n",
       "std     2.235204e+07            2.894086  \n",
       "min     6.745533e+03            9.230000  \n",
       "25%     1.721082e+07           21.340000  \n",
       "50%     3.784658e+07           23.700000  \n",
       "75%     5.654900e+07           25.700000  \n",
       "max     7.479865e+07           33.200000  "
      ]
     },
     "execution_count": 4,
     "metadata": {},
     "output_type": "execute_result"
    }
   ],
   "source": [
    "data.describe()"
   ]
  },
  {
   "cell_type": "code",
   "execution_count": 5,
   "metadata": {},
   "outputs": [
    {
     "data": {
      "image/png": "[encoded data removed]",
      "text/plain": [
       "<Figure size 1000x1000 with 6 Axes>"
      ]
     },
     "metadata": {},
     "output_type": "display_data"
    }
   ],
   "source": [
    "%matplotlib inline\n",
    "import matplotlib.pyplot as plt\n",
    "data.hist(bins=10, figsize=(10,10))\n",
    "plt.show()"
   ]
  },
  {
   "cell_type": "code",
   "execution_count": 6,
   "metadata": {},
   "outputs": [],
   "source": [
    "np.random.seed(13)\n",
    "\n",
    "def split_train_test(data, test_ratio):\n",
    "    shuffled_indices = np.random.permutation(len(data))\n",
    "    test_set_size = int(len(data) * test_ratio)\n",
    "    test_indices = shuffled_indices[:test_set_size]\n",
    "    train_indices = shuffled_indices[test_set_size:]\n",
    "    \n",
    "    return data.iloc[train_indices], data.iloc[test_indices]"
   ]
  },
  {
   "cell_type": "code",
   "execution_count": 7,
   "metadata": {},
   "outputs": [
    {
     "data": {
      "text/plain": [
       "63586"
      ]
     },
     "execution_count": 7,
     "metadata": {},
     "output_type": "execute_result"
    }
   ],
   "source": [
    "train_set, test_set = split_train_test(data, 0.3)\n",
    "len(train_set)"
   ]
  },
  {
   "cell_type": "code",
   "execution_count": 8,
   "metadata": {},
   "outputs": [
    {
     "data": {
      "text/plain": [
       "27250"
      ]
     },
     "execution_count": 8,
     "metadata": {},
     "output_type": "execute_result"
    }
   ],
   "source": [
    "len(test_set)"
   ]
  },
  {
   "cell_type": "code",
   "execution_count": 9,
   "metadata": {},
   "outputs": [],
   "source": [
    "from zlib import crc32\n",
    "\n",
    "def test_set_check(identifier, test_ratio):\n",
    "    return crc32(np.int64(identifier)) & 0xffffffff < test_ratio * 2**32\n",
    "\n",
    "\n",
    "def split_train_test_by_id(data, test_ratio, id_column):\n",
    "    ids = data[id_column]\n",
    "    in_test_set = ids.apply(lambda id_: test_set_check(id_, test_ratio))\n",
    "    \n",
    "    return data.loc[~in_test_set], data.loc[in_test_set]"
   ]
  },
  {
   "cell_type": "code",
   "execution_count": 10,
   "metadata": {},
   "outputs": [
    {
     "data": {
      "text/plain": [
       "63586"
      ]
     },
     "execution_count": 10,
     "metadata": {},
     "output_type": "execute_result"
    }
   ],
   "source": [
    "data_with_id = data.reset_index()\n",
    "train_set, test_set = split_train_test_by_id(data_with_id, 0.3, \"index\")\n",
    "len(train_set)"
   ]
  },
  {
   "cell_type": "code",
   "execution_count": 11,
   "metadata": {},
   "outputs": [
    {
     "data": {
      "text/plain": [
       "27250"
      ]
     },
     "execution_count": 11,
     "metadata": {},
     "output_type": "execute_result"
    }
   ],
   "source": [
    "len(test_set)"
   ]
  },
  {
   "cell_type": "code",
   "execution_count": 12,
   "metadata": {},
   "outputs": [
    {
     "data": {
      "text/plain": [
       "(       index        id                 name  est_diameter_min  \\\n",
       " 0          0   2162635  162635 (2000 SS164)          1.198271   \n",
       " 1          1   2277475    277475 (2005 WK4)          0.265800   \n",
       " 3          3   3596030          (2012 BV13)          0.096506   \n",
       " 4          4   3667127          (2014 GE35)          0.255009   \n",
       " 6          6  54189957          (2021 PY40)          0.171615   \n",
       " ...      ...       ...                  ...               ...   \n",
       " 90829  90829   3587872            (2011 WA)          0.123184   \n",
       " 90830  90830   3678630         (2014 OL339)          0.069913   \n",
       " 90832  90832   3837603           (2019 AD3)          0.016771   \n",
       " 90833  90833  54017201           (2020 JP3)          0.031956   \n",
       " 90834  90834  54115824           (2021 CN5)          0.007321   \n",
       " \n",
       "        est_diameter_max  relative_velocity  miss_distance orbiting_body  \\\n",
       " 0              2.679415       13569.249224   5.483974e+07         Earth   \n",
       " 1              0.594347       73588.726663   6.143813e+07         Earth   \n",
       " 3              0.215794       24764.303138   2.543497e+07         Earth   \n",
       " 4              0.570217       42737.733765   4.627557e+07         Earth   \n",
       " 6              0.383743       27529.472307   2.906912e+07         Earth   \n",
       " ...                 ...                ...            ...           ...   \n",
       " 90829          0.275448       80671.310009   6.897365e+07         Earth   \n",
       " 90830          0.156329       38102.469622   4.667988e+07         Earth   \n",
       " 90832          0.037501       46114.605073   5.432121e+07         Earth   \n",
       " 90833          0.071456        7566.807732   2.840077e+07         Earth   \n",
       " 90834          0.016370       69199.154484   6.869206e+07         Earth   \n",
       " \n",
       "        sentry_object  absolute_magnitude  hazardous  \n",
       " 0              False               16.73      False  \n",
       " 1              False               20.00       True  \n",
       " 3              False               22.20      False  \n",
       " 4              False               20.09       True  \n",
       " 6              False               20.95      False  \n",
       " ...              ...                 ...        ...  \n",
       " 90829          False               21.67      False  \n",
       " 90830          False               22.90      False  \n",
       " 90832          False               26.00      False  \n",
       " 90833          False               24.60      False  \n",
       " 90834          False               27.80      False  \n",
       " \n",
       " [63586 rows x 11 columns],\n",
       "        index        id                name  est_diameter_min  \\\n",
       " 2          2   2512244  512244 (2015 YE18)          0.722030   \n",
       " 5          5  54138696         (2021 GY23)          0.036354   \n",
       " 11        11  54099949          (2020 XW4)          0.152952   \n",
       " 12        12  54104555          (2021 AW1)          0.069913   \n",
       " 16        16   3739154          (2016 AF2)          0.006991   \n",
       " ...      ...       ...                 ...               ...   \n",
       " 90820  90820  54167171          (2021 NM3)          0.012664   \n",
       " 90822  90822   2503960   503960 (2004 QF1)          0.586888   \n",
       " 90824  90824   3754280         (2016 LG49)          0.088015   \n",
       " 90831  90831   3763337          (2016 VX1)          0.026580   \n",
       " 90835  90835  54205447          (2021 TW7)          0.039862   \n",
       " \n",
       "        est_diameter_max  relative_velocity  miss_distance orbiting_body  \\\n",
       " 2              1.614507      114258.692129   4.979872e+07         Earth   \n",
       " 5              0.081291       34297.587778   4.058569e+07         Earth   \n",
       " 11             0.342011       64393.928316   7.198311e+07         Earth   \n",
       " 12             0.156329       38018.615291   5.209302e+07         Earth   \n",
       " 16             0.015633       75486.090854   7.138706e+07         Earth   \n",
       " ...                 ...                ...            ...           ...   \n",
       " 90820          0.028317       20600.879998   3.345141e+07         Earth   \n",
       " 90822          1.312321       66999.240866   6.944496e+07         Earth   \n",
       " 90824          0.196807       46138.639956   5.267118e+07         Earth   \n",
       " 90831          0.059435       52078.886692   1.230039e+07         Earth   \n",
       " 90835          0.089133       27024.455553   5.977213e+07         Earth   \n",
       " \n",
       "        sentry_object  absolute_magnitude  hazardous  \n",
       " 2              False               17.83      False  \n",
       " 5              False               24.32      False  \n",
       " 11             False               21.20      False  \n",
       " 12             False               22.90      False  \n",
       " 16             False               27.90      False  \n",
       " ...              ...                 ...        ...  \n",
       " 90820          False               26.61      False  \n",
       " 90822          False               18.28      False  \n",
       " 90824          False               22.40      False  \n",
       " 90831          False               25.00      False  \n",
       " 90835          False               24.12      False  \n",
       " \n",
       " [27250 rows x 11 columns])"
      ]
     },
     "execution_count": 12,
     "metadata": {},
     "output_type": "execute_result"
    }
   ],
   "source": [
    "train_set, test_set"
   ]
  },
  {
   "cell_type": "code",
   "execution_count": 13,
   "metadata": {},
   "outputs": [
    {
     "data": {
      "text/plain": [
       "(       index            id                 name  est_diameter_min  \\\n",
       " 0          0  6.840899e+07  162635 (2000 SS164)          1.198271   \n",
       " 1          1  1.350269e+08    277475 (2005 WK4)          0.265800   \n",
       " 2          2  1.640574e+08   512244 (2015 YE18)          0.722030   \n",
       " 3          3  5.019928e+07          (2012 BV13)          0.096506   \n",
       " 4          4  8.901330e+07          (2014 GE35)          0.255009   \n",
       " ...      ...           ...                  ...               ...   \n",
       " 90831  90831  6.437928e+07           (2016 VX1)          0.026580   \n",
       " 90832  90832  1.004358e+08           (2019 AD3)          0.016771   \n",
       " 90833  90833  3.596758e+07           (2020 JP3)          0.031956   \n",
       " 90834  90834  1.378912e+08           (2021 CN5)          0.007321   \n",
       " 90835  90835  8.679659e+07           (2021 TW7)          0.039862   \n",
       " \n",
       "        est_diameter_max  relative_velocity  miss_distance orbiting_body  \\\n",
       " 0              2.679415       13569.249224   5.483974e+07         Earth   \n",
       " 1              0.594347       73588.726663   6.143813e+07         Earth   \n",
       " 2              1.614507      114258.692129   4.979872e+07         Earth   \n",
       " 3              0.215794       24764.303138   2.543497e+07         Earth   \n",
       " 4              0.570217       42737.733765   4.627557e+07         Earth   \n",
       " ...                 ...                ...            ...           ...   \n",
       " 90831          0.059435       52078.886692   1.230039e+07         Earth   \n",
       " 90832          0.037501       46114.605073   5.432121e+07         Earth   \n",
       " 90833          0.071456        7566.807732   2.840077e+07         Earth   \n",
       " 90834          0.016370       69199.154484   6.869206e+07         Earth   \n",
       " 90835          0.089133       27024.455553   5.977213e+07         Earth   \n",
       " \n",
       "        sentry_object  absolute_magnitude  hazardous  \n",
       " 0              False               16.73      False  \n",
       " 1              False               20.00       True  \n",
       " 2              False               17.83      False  \n",
       " 3              False               22.20      False  \n",
       " 4              False               20.09       True  \n",
       " ...              ...                 ...        ...  \n",
       " 90831          False               25.00      False  \n",
       " 90832          False               26.00      False  \n",
       " 90833          False               24.60      False  \n",
       " 90834          False               27.80      False  \n",
       " 90835          False               24.12      False  \n",
       " \n",
       " [63522 rows x 11 columns],\n",
       "        index            id               name  est_diameter_min  \\\n",
       " 7          7  1.126595e+08         (2021 XD6)          0.005328   \n",
       " 8          8  1.256612e+08   88213 (2001 AF2)          0.350393   \n",
       " 12        12  9.011164e+07         (2021 AW1)          0.069913   \n",
       " 15        15  1.344577e+08       (2000 YT134)          0.483676   \n",
       " 16        16  1.468731e+08         (2016 AF2)          0.006991   \n",
       " ...      ...           ...                ...               ...   \n",
       " 90813  90813  1.538945e+08        (2014 EA49)          0.265800   \n",
       " 90821  90821  1.281679e+08  585428 (2018 NP1)          0.172407   \n",
       " 90823  90823  8.779168e+07         (1999 LV7)          0.347180   \n",
       " 90827  90827  3.232255e+07          (2020 VL)          0.024692   \n",
       " 90830  90830  8.478235e+07       (2014 OL339)          0.069913   \n",
       " \n",
       "        est_diameter_max  relative_velocity  miss_distance orbiting_body  \\\n",
       " 7              0.011914       57544.470083   5.511502e+07         Earth   \n",
       " 8              0.783502       56625.210122   6.903598e+07         Earth   \n",
       " 12             0.156329       38018.615291   5.209302e+07         Earth   \n",
       " 15             1.081534       74576.930760   5.988081e+07         Earth   \n",
       " 16             0.015633       75486.090854   7.138706e+07         Earth   \n",
       " ...                 ...                ...            ...           ...   \n",
       " 90813          0.594347      125252.298778   2.864219e+07         Earth   \n",
       " 90821          0.385514       57240.941053   7.092693e+07         Earth   \n",
       " 90823          0.776319       60242.316201   2.754936e+07         Earth   \n",
       " 90827          0.055213       14655.044804   1.766750e+07         Earth   \n",
       " 90830          0.156329       38102.469622   4.667988e+07         Earth   \n",
       " \n",
       "        sentry_object  absolute_magnitude  hazardous  \n",
       " 7              False               28.49      False  \n",
       " 8              False               19.40      False  \n",
       " 12             False               22.90      False  \n",
       " 15             False               18.70      False  \n",
       " 16             False               27.90      False  \n",
       " ...              ...                 ...        ...  \n",
       " 90813          False               20.00      False  \n",
       " 90821          False               20.94      False  \n",
       " 90823          False               19.42      False  \n",
       " 90827          False               25.16      False  \n",
       " 90830          False               22.90      False  \n",
       " \n",
       " [27314 rows x 11 columns])"
      ]
     },
     "execution_count": 13,
     "metadata": {},
     "output_type": "execute_result"
    }
   ],
   "source": [
    "data = data.reset_index()\n",
    "data_with_id[\"id\"] = data[\"relative_velocity\"] * 1000 + data[\"miss_distance\"]\n",
    "train_set, test_set = split_train_test_by_id(data_with_id, 0.3, \"id\")\n",
    "train_set, test_set"
   ]
  },
  {
   "cell_type": "code",
   "execution_count": 14,
   "metadata": {},
   "outputs": [
    {
     "ename": "ModuleNotFoundError",
     "evalue": "No module named 'sklearn'",
     "output_type": "error",
     "traceback": [
      "\u001B[1;31m---------------------------------------------------------------------------\u001B[0m",
      "\u001B[1;31mModuleNotFoundError\u001B[0m                       Traceback (most recent call last)",
      "Cell \u001B[1;32mIn[14], line 1\u001B[0m\n\u001B[1;32m----> 1\u001B[0m \u001B[38;5;28;01mfrom\u001B[39;00m \u001B[38;5;21;01msklearn\u001B[39;00m\u001B[38;5;21;01m.\u001B[39;00m\u001B[38;5;21;01mmodel_selection\u001B[39;00m \u001B[38;5;28;01mimport\u001B[39;00m train_test_split\n\u001B[0;32m      3\u001B[0m train_set, test_set \u001B[38;5;241m=\u001B[39m train_test_split(data, test_size\u001B[38;5;241m=\u001B[39m\u001B[38;5;241m0.3\u001B[39m, random_state\u001B[38;5;241m=\u001B[39m\u001B[38;5;241m13\u001B[39m)\n\u001B[0;32m      4\u001B[0m train_set, test_set\n",
      "\u001B[1;31mModuleNotFoundError\u001B[0m: No module named 'sklearn'"
     ]
    }
   ],
   "source": [
    "from sklearn.model_selection import train_test_split\n",
    "\n",
    "train_set, test_set = train_test_split(data, test_size=0.3, random_state=13)\n",
    "train_set, test_set"
   ]
  },
  {
   "cell_type": "code",
   "execution_count": null,
   "metadata": {},
   "outputs": [],
   "source": [
    "data[\"age_cat\"] = pd.cut(data[\"Age\"],bins=[1, 25, 30, 50, 60, np.inf],labels=[1, 2, 3, 4, 5])\n",
    "data[\"age_cat\"].hist()"
   ]
  },
  {
   "cell_type": "code",
   "execution_count": null,
   "metadata": {},
   "outputs": [],
   "source": [
    "data[\"age_cat\"].value_counts()"
   ]
  },
  {
   "cell_type": "code",
   "execution_count": null,
   "metadata": {},
   "outputs": [],
   "source": [
    "data[\"age_cat\"].value_counts()"
   ]
  },
  {
   "cell_type": "code",
   "execution_count": null,
   "metadata": {},
   "outputs": [],
   "source": []
  }
 ],
 "metadata": {
  "kernelspec": {
   "display_name": "Python 3 (ipykernel)",
   "language": "python",
   "name": "python3"
  },
  "language_info": {
   "codemirror_mode": {
    "name": "ipython",
    "version": 3
   },
   "file_extension": ".py",
   "mimetype": "text/x-python",
   "name": "python",
   "nbconvert_exporter": "python",
   "pygments_lexer": "ipython3",
   "version": "3.10.11"
  }
 },
 "nbformat": 4,
 "nbformat_minor": 4
}
