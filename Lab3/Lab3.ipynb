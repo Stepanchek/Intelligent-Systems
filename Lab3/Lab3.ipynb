{
 "cells": [
  {
   "cell_type": "code",
   "execution_count": null,
   "id": "abe8df14-5055-4703-8757-fc681c70f545",
   "metadata": {
    "is_executing": true
   },
   "outputs": [],
   "source": [
    "import pandas as pd\n",
    "import numpy as np\n",
    "import csv\n",
    "\n",
    "def csv_to_data_frame(file_name):\n",
    "    titles = []\n",
    "    datas = []\n",
    "\n",
    "    with open(file_name, mode='r') as csv_file:\n",
    "        csv_reader = csv.DictReader(csv_file)\n",
    "        line_count = 0\n",
    "        for row in csv_reader:\n",
    "            if line_count == 0:\n",
    "                titles = row\n",
    "                line_count += 1\n",
    "            datas.append([int(value) if value.isnumeric() else value for (key, value) in row.items()])\n",
    "            line_count += 1\n",
    "        names = pd.DataFrame(datas, columns=titles)\n",
    "\n",
    "        return names"
   ]
  },
  {
   "cell_type": "code",
   "execution_count": null,
   "id": "5c689416-bbdc-4bed-a75e-72e6d20f010f",
   "metadata": {
    "is_executing": true
   },
   "outputs": [],
   "source": [
    "data = csv_to_data_frame(\"./NationalNames.csv\")"
   ]
  },
  {
   "cell_type": "code",
   "execution_count": null,
   "id": "852588f9-e57e-439b-8d1d-9480065531b7",
   "metadata": {
    "is_executing": true
   },
   "outputs": [],
   "source": [
    "# task_3 Отримайте імена стовпців набору даних\n",
    "data.columns"
   ]
  },
  {
   "cell_type": "code",
   "execution_count": null,
   "id": "9415f210-ce29-413e-9668-f9c1d6ad6c0d",
   "metadata": {
    "is_executing": true
   },
   "outputs": [],
   "source": [
    "#task_4 Отримайте загальну інформацію про дані у наборі даних\n",
    "data[[\"Id\", \"Year\", \"Count\"]].describe()"
   ]
  },
  {
   "cell_type": "code",
   "execution_count": null,
   "id": "fdaa5309-20de-41ff-b044-880b7f31af13",
   "metadata": {
    "is_executing": true
   },
   "outputs": [],
   "source": [
    "#task_5 Знайдіть кількість унікальних імен у наборі даних\n",
    "data[\"Name\"].nunique()"
   ]
  },
  {
   "cell_type": "code",
   "execution_count": null,
   "id": "c40c8bc1-7362-465a-bd4e-7fdf692cc31b",
   "metadata": {
    "is_executing": true
   },
   "outputs": [],
   "source": [
    "#task_8 Знайдіть найпопулярніше ім’я за результатами одного року (ім’я, для якого Count максимальне)\n",
    "max_item = data.loc[data['Count'].idxmax()]\n",
    "f\"The name is '{max_item['Name']}' in {max_item['Year']}\""
   ]
  },
  {
   "cell_type": "code",
   "execution_count": null,
   "id": "f3adfe30-6591-4709-b719-b2ec2b85a4d2",
   "metadata": {
    "is_executing": true
   },
   "outputs": [],
   "source": [
    "#task_9 Підрахуйте кількість записів, для яких Count - мінімальне у наборі.\n",
    "len(data.loc[data[\"Count\"] == data[\"Count\"].min()])"
   ]
  },
  {
   "cell_type": "code",
   "execution_count": null,
   "id": "9b7bd976-7bff-4587-a2ac-2200c1253b88",
   "metadata": {
    "is_executing": true
   },
   "outputs": [],
   "source": [
    "#task_11 Знайдіть рік із найбільшою кількістю унікальних імен\n",
    "unique = data.groupby(\"Year\")[\"Name\"].nunique()\n",
    "popular_year = unique.idxmax()\n",
    "unique.loc[popular_year:popular_year]"
   ]
  },
  {
   "cell_type": "code",
   "execution_count": null,
   "id": "81f3fbe0-bc26-41b0-a4e8-3778c59770f4",
   "metadata": {
    "is_executing": true
   },
   "outputs": [],
   "source": [
    "#task_12 Знайдіть найпопулярніше ім’я в році з найбільшою кількістю унікальних імен (тобто у 2008 році)\n",
    "popular_group = data.groupby(\"Year\").get_group(popular_year)\n",
    "popular_group.loc[popular_group['Count'].idxmax()].loc[\"Name\"]"
   ]
  },
  {
   "cell_type": "code",
   "execution_count": null,
   "id": "77c622dd-5329-4d32-bedc-90d8a759996e",
   "metadata": {
    "is_executing": true
   },
   "outputs": [],
   "source": [
    "#task_13 Знайдіть рік, коли ім’я “Jacob” було найпопулярнішим серед жіночих імен\n",
    "group_name = data.groupby(\"Name\")\n",
    "jacob_group = group_name.get_group(\"Jacob\")\n",
    "jacob_f = jacob_group.loc[jacob_group[\"Gender\"] == \"F\"]\n",
    "f_index = jacob_f[\"Count\"].idxmax()\n",
    "jacob_f.loc[f_index:f_index]"
   ]
  },
  {
   "cell_type": "code",
   "execution_count": null,
   "id": "2aca8613-5a53-4dbe-9381-baaa9c7d3bcf",
   "metadata": {
    "is_executing": true
   },
   "outputs": [],
   "source": [
    "#task_14 Знайти рік із найбільшою кількістю гендерно нейтральних імен (однакові чоловічі та жіночі імена)\n",
    "group = pd.DataFrame(data.groupby([\"Year\", \"Gender\"])[\"Name\"].unique())\n",
    "year_set = list(set([item[0] for item in group.index]))\n",
    "\n",
    "m_array = group.loc[(year_set[0], \"M\")].values[0]\n",
    "f_array = group.loc[(year_set[0], \"F\")].values[0]\n",
    "max_count = len(np.intersect1d(m_array, f_array))\n",
    "max_year = year_set[0]\n",
    "for i in range(1, len(year_set)):\n",
    "    year = year_set[i]\n",
    "    m_array = group.loc[(year, \"M\")].values[0]\n",
    "    f_array = group.loc[(year, \"F\")].values[0]\n",
    "    count = len(np.intersect1d(m_array, f_array))\n",
    "    if count > max_count:\n",
    "        max_count = count\n",
    "        max_year = year\n",
    "\n",
    "pd.DataFrame([[max_year, max_count]], columns=[\"Year\", \"Gender_neutral_names\"])"
   ]
  },
  {
   "cell_type": "code",
   "execution_count": null,
   "id": "7f55e006-83bc-47ec-8b26-b09c049eb4b2",
   "metadata": {
    "is_executing": true
   },
   "outputs": [],
   "source": [
    "#task_16 Знайдіть рік, коли народилося найбільше дітей\n",
    "group = data.groupby([\"Year\"])[\"Count\"].sum()\n",
    "group.idxmax()"
   ]
  },
  {
   "cell_type": "code",
   "execution_count": null,
   "id": "bb3c39f5-b01d-464d-8eb4-f6538be11fea",
   "metadata": {
    "is_executing": true
   },
   "outputs": [],
   "source": [
    "#task_17 Знайдіть кількість дівчаток та хлопчиків, які народились кожного року\n",
    "\n",
    "group_f = data.loc[data[\"Gender\"] == \"F\"].groupby([\"Year\", \"Gender\"])[\"Count\"].sum()\n",
    "group_m = data.loc[data[\"Gender\"] == \"M\"].groupby([\"Year\", \"Gender\"])[\"Count\"].sum()\n",
    "\n",
    "group_f_m = pd.merge(group_f, group_m, on=[\"Year\"])\n",
    "group_f_m.rename(columns={\"Count_x\": \"F\", \"Count_y\": \"M\"}, inplace=True)\n",
    "group_f_m"
   ]
  },
  {
   "cell_type": "code",
   "execution_count": null,
   "id": "9ce77630-61d7-4a8e-955d-c83d1cd4e401",
   "metadata": {
    "is_executing": true
   },
   "outputs": [],
   "source": [
    "#task_18 Підрахуйте кількість років, коли дівчаток народжувалось більше, ніж хлопчиків\n",
    "\n",
    "group_f_m.loc[group_f_m[\"F\"] > group_f_m[\"M\"]][\"F\"].count()"
   ]
  },
  {
   "cell_type": "code",
   "execution_count": null,
   "id": "193bf17c-d9e3-430f-8134-cb7bd9d72fae",
   "metadata": {
    "is_executing": true
   },
   "outputs": [],
   "source": [
    "#task_19 Накресліть графік загальної кількості народжень хлопчиків та дівчаток на рік.\n",
    "\n",
    "group_f_m.plot()"
   ]
  },
  {
   "cell_type": "code",
   "execution_count": null,
   "id": "a3659bbc-6bc1-4c86-878e-68886f26169a",
   "metadata": {
    "is_executing": true
   },
   "outputs": [],
   "source": [
    "#task_20 Підрахуйте кількість гендерно-нейтральних імен (однакових для дівчат та хлопців)\n",
    "\n",
    "group_f = data.loc[data[\"Gender\"] == \"F\"][\"Name\"].unique()\n",
    "group_m = data.loc[data[\"Gender\"] == \"M\"][\"Name\"].unique()\n",
    "\n",
    "len(np.intersect1d(group_f, group_m))"
   ]
  },
  {
   "cell_type": "code",
   "execution_count": null,
   "id": "8a73f50e-1d74-4b97-910a-ee5f2e7546bd",
   "metadata": {
    "is_executing": true
   },
   "outputs": [],
   "source": [
    "#task_22 Підрахуйте скільки років проводилось спостереження\n",
    "min_year = data[\"Year\"].min()\n",
    "max_year = data[\"Year\"].max()\n",
    "period = max_year - min_year + 1\n",
    "f'Спостереження проводилося {period} років'"
   ]
  },
  {
   "cell_type": "code",
   "execution_count": null,
   "id": "ed577ca9-04cc-415f-89cf-7d4cbe5b2869",
   "metadata": {
    "is_executing": true
   },
   "outputs": [],
   "source": [
    "#task_23 Знати найпопулярніші гендерно-нейтральні імена (ті, що присутні кожного року)\n",
    "\n",
    "def get_unique_names(group_):\n",
    "    res = np.array([])\n",
    "    for j in range(0, len(group_)):\n",
    "        if len(res) == 0:\n",
    "            res = group_.iloc[j]\n",
    "        else:\n",
    "            res = np.intersect1d(res, group_.iloc[j])\n",
    "\n",
    "    return res\n",
    "\n",
    "\n",
    "group_f = data.loc[data[\"Gender\"] == \"F\"].groupby([\"Year\"])[\"Name\"].unique()\n",
    "group_m = data.loc[data[\"Gender\"] == \"M\"].groupby([\"Year\"])[\"Name\"].unique()\n",
    "unique_f = get_unique_names(group_f)\n",
    "unique_m = get_unique_names(group_m)\n",
    "pd.Series(np.intersect1d(unique_f, unique_m))"
   ]
  },
  {
   "cell_type": "code",
   "execution_count": null,
   "id": "e4ffdf44-adb1-4799-a4fe-47c2aacb8546",
   "metadata": {
    "scrolled": true,
    "is_executing": true
   },
   "outputs": [],
   "source": [
    "#task_25 Побудувати графіки розподілення кількості імен John та Mary по роках без залежності до статі\n",
    "\n",
    "group_f = data.loc[data[\"Name\"] == \"John\"].groupby([\"Year\"])[\"Count\"].sum()\n",
    "group_m = data.loc[data[\"Name\"] == \"Mary\"].groupby([\"Year\"])[\"Count\"].sum()\n",
    "\n",
    "group_f_m = pd.merge(group_f, group_m, on=[\"Year\"])\n",
    "group_f_m.rename(columns={\"Count_x\": \"John\", \"Count_y\": \"Mary\"}, inplace=True)\n",
    "group_f_m.plot()"
   ]
  },
  {
   "cell_type": "code",
   "execution_count": null,
   "id": "19988175-5839-4662-a9ef-d92c59030761",
   "metadata": {
    "is_executing": true
   },
   "outputs": [],
   "source": [
    "#task_27 Знайти найпопулярніші імена в кожному році\n",
    "\n",
    "maxes = data.groupby([\"Year\"])[\"Count\"].idxmax()\n",
    "data.iloc[maxes.values].groupby([\"Year\"])[[\"Name\", \"Count\"]].max()"
   ]
  }
 ],
 "metadata": {
  "kernelspec": {
   "display_name": "Python 3 (ipykernel)",
   "language": "python",
   "name": "python3"
  },
  "language_info": {
   "codemirror_mode": {
    "name": "ipython",
    "version": 3
   },
   "file_extension": ".py",
   "mimetype": "text/x-python",
   "name": "python",
   "nbconvert_exporter": "python",
   "pygments_lexer": "ipython3",
   "version": "3.10.11"
  }
 },
 "nbformat": 4,
 "nbformat_minor": 5
}
