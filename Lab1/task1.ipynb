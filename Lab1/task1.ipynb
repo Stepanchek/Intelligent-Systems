{
 "cells": [
  {
   "cell_type": "markdown",
   "metadata": {},
   "source": [
    "## Буркіна Фасо \n",
    "___\n",
    "### Площа \n",
    "* Всього: *274,000 км²*\n",
    "* Внутр. води: *0.1% %*\n",
    "___\n",
    "### Населення\n",
    "* Перепис населення 1996: *10,312,669 (66 в світі)*\n",
    "* Оцінка 2022: *21,935,389*\n",
    "* Густота: *48/км² (145)*\n",
    "### Державний устрій\n",
    "* Форма правління: парламентаризм\n",
    "* Поль-Анрі Сандаого Даміба\n",
    "\n",
    "## Прапор Буркіна Фасо"
   ]
  },
  {
   "cell_type": "code",
   "execution_count": 14,
   "metadata": {
    "collapsed": false,
    "is_executing": true
   },
   "outputs": [
    {
     "data": {
      "text/html": [
       "<svg version=\"1.0\" xmlns=\"http://www.w3.org/2000/svg\" xmlns:xlink=\"http://www.w3.org/1999/xlink\" width=\"900\" height=\"600\">\n",
       "\t<rect width=\"900\" height=\"600\" fill=\"#009e49\"/>\n",
       "\t<rect width=\"900\" height=\"300\" fill=\"#ef2b2d\"/>\n",
       "\t<g transform=\"translate(450,300)\" fill=\"#fcd116\">\n",
       "\t\t<g id=\"c\">\n",
       "\t\t\t<path id=\"t\" d=\"M 0,-100 V 0 H 50\" transform=\"rotate(18 0,-100)\"/>\n",
       "\t\t\t<use xlink:href=\"#t\" transform=\"scale(-1,1)\"/>\n",
       "\t\t</g>\n",
       "\t\t<use xlink:href=\"#c\" transform=\"rotate(72)\"/>\n",
       "\t\t<use xlink:href=\"#c\" transform=\"rotate(144)\"/>\n",
       "\t\t<use xlink:href=\"#c\" transform=\"rotate(216)\"/>\n",
       "\t\t<use xlink:href=\"#c\" transform=\"rotate(288)\"/>\n",
       "\t</g>\n",
       "</svg>\n"
      ],
      "text/plain": [
       "<IPython.core.display.HTML object>"
      ]
     },
     "metadata": {},
     "output_type": "display_data"
    }
   ],
   "source": [
    "%%HTML\n",
    "<svg version=\"1.0\" xmlns=\"http://www.w3.org/2000/svg\" xmlns:xlink=\"http://www.w3.org/1999/xlink\" width=\"900\" height=\"600\">\n",
    "\t<rect width=\"900\" height=\"600\" fill=\"#009e49\"/>\n",
    "\t<rect width=\"900\" height=\"300\" fill=\"#ef2b2d\"/>\n",
    "\t<g transform=\"translate(450,300)\" fill=\"#fcd116\">\n",
    "\t\t<g id=\"c\">\n",
    "\t\t\t<path id=\"t\" d=\"M 0,-100 V 0 H 50\" transform=\"rotate(18 0,-100)\"/>\n",
    "\t\t\t<use xlink:href=\"#t\" transform=\"scale(-1,1)\"/>\n",
    "\t\t</g>\n",
    "\t\t<use xlink:href=\"#c\" transform=\"rotate(72)\"/>\n",
    "\t\t<use xlink:href=\"#c\" transform=\"rotate(144)\"/>\n",
    "\t\t<use xlink:href=\"#c\" transform=\"rotate(216)\"/>\n",
    "\t\t<use xlink:href=\"#c\" transform=\"rotate(288)\"/>\n",
    "\t</g>\n",
    "</svg>"
   ]
  },
  {
   "cell_type": "markdown",
   "source": [
    "## Видатні особистості Буркіна Фасо\n",
    "___\n",
    "| №   | Область                                                                                                                                                                                                                                                                             | Область (Фр.)     | Адміністративний центр                                                                                                                    | Кіл-ть провінцій | Площа, км² | Населення (2006), чол. | Щільність, чол/км² |\n",
    "|-----|-------------------------------------------------------------------------------------------------------------------------------------------------------------------------------------------------------------------------------------------------------------------------------------|-------------------|-------------------------------------------------------------------------------------------------------------------------------------------|------------------|------------|------------------------|--------------------|\n",
    "| 1   | [Букле-ду-Мухун](https://uk.wikipedia.org/wiki/%D0%91%D1%83%D0%BA%D0%BB%D0%B5-%D0%B4%D1%83-%D0%9C%D1%83%D1%85%D1%83%D0%BD)                                                                                                                                                          | Boucle du Mouhoun | [Дедугу](https://uk.wikipedia.org/wiki/%D0%94%D0%B5%D0%B4%D1%83%D0%B3%D1%83)                                                              | 6                | 34,479     | 1,434,847              | 41.62              |\n",
    "| 2   | [Каскади](https://uk.wikipedia.org/wiki/%D0%9A%D0%B0%D1%81%D0%BA%D0%B0%D0%B4%D0%B8_(%D0%91%D1%83%D1%80%D0%BA%D1%96%D0%BD%D0%B0-%D0%A4%D0%B0%D1%81%D0%BE))                                                                                                                           | Cascades          | [Банфора](https://uk.wikipedia.org/wiki/%D0%91%D0%B0%D0%BD%D1%84%D0%BE%D1%80%D0%B0)                                                       | 2                | 16,663     | 524,956                | 31.50              |\n",
    "| 3   | [Центральна](https://uk.wikipedia.org/wiki/%D0%A6%D0%B5%D0%BD%D1%82%D1%80%D0%B0%D0%BB%D1%8C%D0%BD%D0%B0_%D0%BE%D0%B1%D0%BB%D0%B0%D1%81%D1%82%D1%8C_(%D0%91%D1%83%D1%80%D0%BA%D1%96%D0%BD%D0%B0-%D0%A4%D0%B0%D1%81%D0%BE))                                                           | Centre            | [Уагадугу](https://uk.wikipedia.org/wiki/%D0%A3%D0%B0%D0%B3%D0%B0%D0%B4%D1%83%D0%B3%D1%83)                                                | 1                | 2,805      | 1,523,980              | 543.31             |\n",
    "| 4   | [Східно-Центральна](https://uk.wikipedia.org/wiki/%D0%A1%D1%85%D1%96%D0%B4%D0%BD%D0%BE-%D0%A6%D0%B5%D0%BD%D1%82%D1%80%D0%B0%D0%BB%D1%8C%D0%BD%D0%B0_%D0%BE%D0%B1%D0%BB%D0%B0%D1%81%D1%82%D1%8C_(%D0%91%D1%83%D1%80%D0%BA%D1%96%D0%BD%D0%B0-%D0%A4%D0%B0%D1%81%D0%BE))               | Centre-Est        | [Тенкодого](https://uk.wikipedia.org/wiki/%D0%A2%D0%B5%D0%BD%D0%BA%D0%BE%D0%B4%D0%BE%D0%B3%D0%BE)                                         | 3                | 14,852     | 1,132,023              | 76.22              |\n",
    "| 5   | [Північно-Центральна](https://uk.wikipedia.org/wiki/%D0%9F%D1%96%D0%B2%D0%BD%D1%96%D1%87%D0%BD%D0%BE-%D0%A6%D0%B5%D0%BD%D1%82%D1%80%D0%B0%D0%BB%D1%8C%D0%BD%D0%B0_%D0%BE%D0%B1%D0%BB%D0%B0%D1%81%D1%82%D1%8C_(%D0%91%D1%83%D1%80%D0%BA%D1%96%D0%BD%D0%B0-%D0%A4%D0%B0%D1%81%D0%BE)) | Centre-Nord       | [Кая](https://uk.wikipedia.org/wiki/%D0%9A%D0%B0%D1%8F_(%D0%BC%D1%96%D1%81%D1%82%D0%BE))                                                  | 3                | 19,508     | 1,203,073              | 61.67              |\n",
    "| 6   | [Західно-Центральна](https://uk.wikipedia.org/wiki/%D0%97%D0%B0%D1%85%D1%96%D0%B4%D0%BD%D0%BE-%D0%A6%D0%B5%D0%BD%D1%82%D1%80%D0%B0%D0%BB%D1%8C%D0%BD%D0%B0_%D0%BE%D0%B0%D0%BB%D1%81%D1%82%D1%8C_(%D0%91%D1%83%D1%80%D0%BA%D1%96%D0%BD%D0%B0-%D0%A4%D0%B0%D1%81%D0%BE))              | Centre-Ouest      | [Кудугу](https://uk.wikipedia.org/wiki/%D0%9A%D1%83%D0%B4%D1%83%D0%B3%D1%83)                                                              | 4                | 21,853     | 1,183,473              | 54.16              |\n",
    "| 7   | [Південно-Центральна](https://uk.wikipedia.org/wiki/%D0%9F%D1%96%D0%B2%D0%B4%D0%B5%D0%BD%D0%BD%D0%BE-%D0%A6%D0%B5%D0%BD%D1%82%D1%80%D0%B0%D0%BB%D1%8C%D0%BD%D0%B0_%D0%BE%D0%B1%D0%BB%D0%B0%D1%81%D1%82%D1%8C_(%D0%91%D1%83%D1%80%D0%BA%D1%96%D0%BD%D0%B0-%D0%A4%D0%B0%D1%81%D0%BE)) | Centre-Sud        | [Манга](https://uk.wikipedia.org/w/index.php?title=%D0%9C%D0%B0%D0%BD%D0%B3%D0%B0_(%D0%B3%D0%BE%D1%80%D0%BE%D0%B4)&action=edit&redlink=1) | 3                | 11,313     | 638,379                | 56.43              |\n",
    "| 8   | [Східна](https://uk.wikipedia.org/wiki/%D0%A1%D1%85%D1%96%D0%B4%D0%BD%D0%B0_%D0%BE%D0%B1%D0%BB%D0%B0%D1%81%D1%82%D1%8C_(%D0%91%D1%83%D1%80%D0%BA%D1%96%D0%BD%D0%B0-%D0%A4%D0%B0%D1%81%D0%BE))                                                                                       | Est               | [Фада-Нґурма](https://uk.wikipedia.org/wiki/%D0%A4%D0%B0%D0%B4%D0%B0-%D0%9D%D2%91%D1%83%D1%80%D0%BC%D0%B0)                                | 5                | 46,256     | 1,209,399              | 26.15              |\n",
    "| 9   | [Верхні Басейни](https://uk.wikipedia.org/wiki/%D0%92%D0%B5%D1%80%D1%85%D0%BD%D1%96_%D0%91%D0%B0%D1%81%D0%B5%D0%B9%D0%BD%D0%B8)                                                                                                                                                     | Hauts-Bassins     | [Бобо-Діуласо](https://uk.wikipedia.org/wiki/%D0%91%D0%BE%D0%B1%D0%BE-%D0%94%D1%96%D1%83%D0%BB%D0%B0%D1%81%D0%BE)                         | 3                | 26,606     | 1,410,284              | 53.01              |\n",
    "| 10  | [Північна](https://uk.wikipedia.org/wiki/%D0%9F%D1%96%D0%B2%D0%BD%D1%96%D1%87%D0%BD%D0%B0_%D0%BE%D0%B1%D0%BB%D0%B0%D1%81%D1%82%D1%8C_(%D0%91%D1%83%D1%80%D0%BA%D1%96%D0%BD%D0%B0-%D0%A4%D0%B0%D1%81%D0%BE))                                                                         | Nord              | [Уахігуя](https://uk.wikipedia.org/wiki/%D0%A3%D0%B0%D1%85%D1%96%D0%B3%D1%83%D1%8F)                                                       | 4                | 17,601     | 1,182,770              | 67.20              |\n",
    "| 11  | [Центральне Плато](https://uk.wikipedia.org/wiki/%D0%A6%D0%B5%D0%BD%D1%82%D1%80%D0%B0%D0%BB%D1%8C%D0%BD%D0%B5_%D0%9F%D0%BB%D0%B0%D1%82%D0%BE_(%D0%BE%D0%B1%D0%BB%D0%B0%D1%81%D1%82%D1%8C_%D0%91%D1%83%D1%80%D0%BA%D1%96%D0%BD%D0%B0-%D0%A4%D0%B0%D1%81%D0%BE))                      | Plateau-Central   | [Зініарі](https://uk.wikipedia.org/wiki/%D0%97%D1%96%D0%BD%D1%96%D0%B0%D1%80%D1%96)                                                       | 3                | 8,545      | 647,516                | 75.78              |\n",
    "| 12  | [Сахель](https://uk.wikipedia.org/wiki/%D0%A1%D0%B0%D1%85%D0%B5%D0%BB%D1%8C_(%D0%BE%D0%B1%D0%BB%D0%B0%D1%81%D1%82%D1%8C_%D0%91%D1%83%D1%80%D0%BA%D1%96%D0%BD%D0%B0-%D0%A4%D0%B0%D1%81%D0%BE))                                                                                       | Sahel             | [Дорі](https://uk.wikipedia.org/wiki/%D0%94%D0%BE%D1%80%D1%96_(%D0%91%D1%83%D1%80%D0%BA%D1%96%D0%BD%D0%B0-%D0%A4%D0%B0%D1%81%D0%BE))      | 4                | 36,130     | 808,928                | 22.39              |\n",
    "| 13  | [Південно-Західна](https://uk.wikipedia.org/wiki/%D0%9F%D1%96%D0%B2%D0%B4%D0%B5%D0%BD%D0%BD%D0%BE-%D0%97%D0%B0%D1%85%D1%96%D0%B4%D0%BD%D0%B0_%D0%BE%D0%B1%D0%BB%D0%B0%D1%81%D1%82%D1%8C_(%D0%91%D1%83%D1%80%D0%BA%D1%96%D0%BD%D0%B0-%D0%A4%D0%B0%D1%81%D0%BE))                      | Sud-Ouest         | [Гава](https://uk.wikipedia.org/wiki/%D0%93%D0%B0%D0%B2%D0%B0_(%D0%91%D1%83%D1%80%D0%BA%D1%96%D0%BD%D0%B0-%D0%A4%D0%B0%D1%81%D0%BE))      | 4                | 16,576     | 623,056                | 37.59              |\n",
    "|     | Всього                                                                                                                                                                                                                                                                              |                   |                                                                                                                                           | 45               | 273,187    | 13,522,684             | 49.50              |"
   ],
   "metadata": {
    "collapsed": false
   }
  },
  {
   "cell_type": "markdown",
   "source": [
    "## Пам'ятки Буркіна Фасо\n",
    "___\n",
    "* #### Парк Бангр Веугу"
   ],
   "metadata": {
    "collapsed": false
   }
  },
  {
   "cell_type": "markdown",
   "source": [
    "<div style=\"border: 2px solid red; padding: 5px\">\n",
    "Розташований в центральній частині столиці країни Уагадугу. У 2006 році мандрівники відзначали, що \"в міському парку Бангр Веугу виростає більше 360 видів рослин і мешкає 160 видів птахів і 40 видів тварин, наприклад антилопи, крокодили, мавпи і білки. Інфраструктурні об'єкти парку: музей, присвячений тваринному світу, спортивний сектор, дитячий сектор «Парк Фасо» і ресторан.\n",
    "</div>"
   ],
   "metadata": {
    "collapsed": false
   }
  },
  {
   "cell_type": "markdown",
   "source": [
    "\n",
    "![](../Lab1/images/1.jpg \"Парк Бангр Веугу\")\n",
    "* #### Гранітні пам'ятники Лоанго"
   ],
   "metadata": {
    "collapsed": false
   }
  },
  {
   "cell_type": "markdown",
   "source": [
    "<div style=\"border: 2px solid red; padding: 5px\">\n",
    "    У містечку Лоанго, що поблизу міста Зініарі, знаходиться гранітне святилище. В дійсності, Лоанго широко відомо по всьому світу серед скульпторів, які один раз на рік з'їжджаються сюди і вирізують з каменю все нові скульптури. Цей захід являє сосбой прекрасну можливість зустріти великих скульпторів сучасності та перейняти їх майстерність. Творіння часом незвичайні і таємничі.\n",
    "<div>"
   ],
   "metadata": {
    "collapsed": false
   }
  },
  {
   "cell_type": "markdown",
   "source": [
    "![](../Lab1/images/2.jpg \"Гранітні пам'ятники Лоанго\")"
   ],
   "metadata": {
    "collapsed": false
   }
  },
  {
   "cell_type": "markdown",
   "source": [
    "## Реалізація алгоритму"
   ],
   "metadata": {
    "collapsed": false
   }
  },
  {
   "cell_type": "code",
   "execution_count": null,
   "outputs": [],
   "source": [
    "def euclidean_algorithm(a, b):\n",
    "    while b:\n",
    "        a, b = b, a % b\n",
    "    return a\n",
    "\n",
    "def task_2():\n",
    "    a = int(input(\"Введіть перше число: \"))\n",
    "    b = int(input(\"Введіть друге число: \"))\n",
    "\n",
    "    gcd = euclidean_algorithm(a, b)\n",
    "\n",
    "    print(f\"Найбільший спільний дільник {a} і {b} – це {gcd}\")"
   ],
   "metadata": {
    "collapsed": false,
    "is_executing": true
   }
  },
  {
   "cell_type": "code",
   "execution_count": null,
   "outputs": [],
   "source": [
    "task_2()"
   ],
   "metadata": {
    "collapsed": false
   }
  },
  {
   "cell_type": "markdown",
   "source": [
    "Найбільший спільний дільник 16 і 36 – це 4"
   ],
   "metadata": {
    "collapsed": false
   }
  },
  {
   "cell_type": "code",
   "execution_count": null,
   "outputs": [],
   "source": [
    "task_2()"
   ],
   "metadata": {
    "collapsed": false,
    "is_executing": true
   }
  },
  {
   "cell_type": "markdown",
   "source": [
    "Найбільший спільний дільник 12 і 54 – це 6"
   ],
   "metadata": {
    "collapsed": false
   }
  }
 ],
 "metadata": {
  "kernelspec": {
   "display_name": "Python 3 (ipykernel)",
   "language": "python",
   "name": "python3"
  },
  "language_info": {
   "codemirror_mode": {
    "name": "ipython",
    "version": 3
   },
   "file_extension": ".py",
   "mimetype": "text/x-python",
   "name": "python",
   "nbconvert_exporter": "python",
   "pygments_lexer": "ipython3",
   "version": "3.10.11"
  }
 },
 "nbformat": 4,
 "nbformat_minor": 4
}
